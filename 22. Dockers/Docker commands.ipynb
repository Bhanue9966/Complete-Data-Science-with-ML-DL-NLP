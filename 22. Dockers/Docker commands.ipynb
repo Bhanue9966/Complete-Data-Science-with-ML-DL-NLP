{
 "cells": [
  {
   "cell_type": "markdown",
   "id": "f84e2cb3",
   "metadata": {},
   "source": [
    "#### 🐳 Docker Basics: Command Reference"
   ]
  },
  {
   "cell_type": "code",
   "execution_count": null,
   "id": "35b9e1b0",
   "metadata": {},
   "outputs": [],
   "source": [
    "# 🔧 Setup & Configuration\n",
    "docker --version          # Check installed Docker version\n",
    "docker info               # Display system-wide Docker information\n",
    "\n",
    "\n",
    "# 🚀 Running Containers\n",
    "docker run <image_name>                      # Run a container from image\n",
    "docker run -it <image_name> bash             # Run interactively with shell access\n",
    "docker run -d <image_name>                   # Run in detached mode (background)\n",
    "docker run -p <host_port>:<container_port> <image_name>  # Map ports\n",
    "docker run --name <container_name> <image_name>          # Assign a name to container\n",
    "\n",
    "\n",
    "# 📋 Managing Containers\n",
    "docker ps                                    # List running containers\n",
    "docker ps -a                                 # List all containers (including stopped)\n",
    "docker stop <container_id_or_name>           # Stop a running container\n",
    "docker start <container_id_or_name>          # Start a stopped container\n",
    "docker restart <container_id_or_name>        # Restart a container\n",
    "docker rm <container_id_or_name>             # Remove a container\n",
    "\n",
    "\n",
    "🧠 Container Insights\n",
    "docker logs <container_id_or_name>           # View container logs\n",
    "docker exec -it <container_id_or_name> bash  # Access running container shell\n",
    "docker inspect <container_id_or_name>        # Detailed container info (JSON format)\n",
    "\n",
    "\n",
    "📁 Volumes & Persistence\n",
    "docker volume create <volume_name>           # Create a volume\n",
    "docker volume ls                             # List volumes\n",
    "docker run -v <volume_name>:<container_path> <image_name>  # Mount volume\n",
    "\n",
    "\n",
    "🧹 Cleanup\n",
    "docker system prune                          # Remove unused data (images, containers, volumes)\n",
    "docker image prune                           # Remove unused images\n",
    "docker container prune                       # Remove stopped containers\n",
    "\n",
    "\n"
   ]
  }
 ],
 "metadata": {
  "kernelspec": {
   "display_name": "Python 3",
   "language": "python",
   "name": "python3"
  },
  "language_info": {
   "name": "python",
   "version": "3.10.0"
  }
 },
 "nbformat": 4,
 "nbformat_minor": 5
}
