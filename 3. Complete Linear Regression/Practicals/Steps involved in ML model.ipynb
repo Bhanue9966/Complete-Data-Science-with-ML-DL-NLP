{
 "cells": [
  {
   "cell_type": "markdown",
   "id": "7ff23f86",
   "metadata": {},
   "source": [
    "### Steps involved in training, testing and evaluating a Machine Learning model"
   ]
  },
  {
   "cell_type": "markdown",
   "id": "6319f328",
   "metadata": {},
   "source": [
    "##### 🟩 1. Training the Model\n",
    "1. Collect Data – Get relevant input-output data.\n",
    "\n",
    "2. Preprocess Data – Clean, normalize, and encode data.\n",
    "\n",
    "3. Split Data – Divide into:\n",
    "\n",
    "    * Training set (e.g., 80%)\n",
    "\n",
    "    * Test set (e.g., 20%)\n",
    "\n",
    "4. Select Model – Choose an algorithm (e.g., Decision Tree, SVM).\n",
    "\n",
    "5. Train Model – Fit model to training data:\n",
    "model.fit(X_train, y_train)"
   ]
  },
  {
   "cell_type": "markdown",
   "id": "ed1d857c",
   "metadata": {},
   "source": [
    "##### 🟨 2. Testing the Model\n",
    "1. Use Test Data – Provide unseen input data.\n",
    "\n",
    "2. Predict Output –\n",
    "     y_pred = model.predict(X_test)\n",
    "\n",
    "3. Compare – Check how close predictions (y_pred) are to actual labels (y_test)."
   ]
  },
  {
   "cell_type": "markdown",
   "id": "03837cf4",
   "metadata": {},
   "source": [
    "##### 🟥 3. Evaluating the Model\n",
    "📌 For Classification\n",
    "  * Accuracy = (Correct / Total)\n",
    "\n",
    "  * Precision = TP / (TP + FP)\n",
    "\n",
    "  * Recall = TP / (TP + FN)\n",
    "\n",
    "  * F1-Score = Harmonic mean of precision & recall\n",
    "\n",
    "  * Confusion Matrix = Table of TP, FP, TN, FN\n",
    "\n",
    "📌 For Regression\n",
    "  * MAE = Average of absolute errors\n",
    "\n",
    "  * MSE = Average of squared errors\n",
    "\n",
    "  * RMSE = √MSE\n",
    "\n",
    "  * R² Score = How well predictions match actuals"
   ]
  },
  {
   "cell_type": "markdown",
   "id": "45eda2a3",
   "metadata": {},
   "source": [
    "##### 🧠 Quick Python Example"
   ]
  },
  {
   "cell_type": "code",
   "execution_count": null,
   "id": "633cb2b1",
   "metadata": {},
   "outputs": [],
   "source": [
    "# Training\n",
    "model.fit(X_train, y_train)\n",
    "\n",
    "# Testing\n",
    "y_pred = model.predict(X_test)\n",
    "\n",
    "# Evaluation\n",
    "from sklearn.metrics import accuracy_score, mean_squared_error, r2_score\n",
    "accuracy = accuracy_score(y_test, y_pred)\n",
    "mse = mean_squared_error(y_test, y_pred)\n",
    "r2 = r2_score(y_test, y_pred)"
   ]
  }
 ],
 "metadata": {
  "kernelspec": {
   "display_name": "Python 3",
   "language": "python",
   "name": "python3"
  },
  "language_info": {
   "name": "python",
   "version": "3.10.0"
  }
 },
 "nbformat": 4,
 "nbformat_minor": 5
}
